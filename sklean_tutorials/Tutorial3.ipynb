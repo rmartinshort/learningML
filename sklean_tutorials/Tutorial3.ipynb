{
 "cells": [
  {
   "cell_type": "markdown",
   "metadata": {},
   "source": [
    "Below is an example of a K-fold validation test. The idea is to split the data into folds used for testing and training. This will give a sense of how well our training error approximates the true prediction error"
   ]
  },
  {
   "cell_type": "code",
   "execution_count": 4,
   "metadata": {
    "collapsed": false
   },
   "outputs": [
    {
     "name": "stdout",
     "output_type": "stream",
     "text": [
      "[0.9348914858096828, 0.9565943238731218, 0.9398998330550918]\n"
     ]
    }
   ],
   "source": [
    "import numpy as np\n",
    "from sklearn import datasets, svm\n",
    "digits = datasets.load_digits()\n",
    "X_digits = digits.data\n",
    "Y_digits = digits.target\n",
    "\n",
    "svc = svm.SVC(C=1,kernel='linear')\n",
    "\n",
    "X_folds = np.array_split(X_digits,3)\n",
    "Y_folds = np.array_split(Y_digits,3)\n",
    "scores = []\n",
    "\n",
    "for k in range(3):\n",
    "    \n",
    "    #Convert the split object to a list\n",
    "    X_train = list(X_folds)\n",
    "    #Remove the training dataset\n",
    "    X_test = X_train.pop(k)\n",
    "    #Concatinate the rest to make the test dataset\n",
    "    X_train = np.concatenate(X_train)\n",
    "    \n",
    "    #Do the same for the Y dataset\n",
    "    Y_train = list(Y_folds)\n",
    "    Y_test = Y_train.pop(k)\n",
    "    Y_train = np.concatenate(Y_train)\n",
    "    scores.append(svc.fit(X_train,Y_train).score(X_test,Y_test))\n",
    "    \n",
    "print(scores) \n",
    "    "
   ]
  },
  {
   "cell_type": "markdown",
   "metadata": {},
   "source": [
    "sklearn also has classes to do this automatically"
   ]
  },
  {
   "cell_type": "code",
   "execution_count": 12,
   "metadata": {
    "collapsed": false
   },
   "outputs": [
    {
     "name": "stdout",
     "output_type": "stream",
     "text": [
      "Train [ 2  3  4  5  6  7  8  9 10 11 12] | test: [0 1]\n",
      "Train [ 0  1  4  5  6  7  8  9 10 11 12] | test: [2 3]\n",
      "Train [ 0  1  2  3  6  7  8  9 10 11 12] | test: [4 5]\n",
      "Train [ 0  1  2  3  4  5  7  8  9 10 11 12] | test: [6]\n",
      "Train [ 0  1  2  3  4  5  6  8  9 10 11 12] | test: [7]\n",
      "Train [ 0  1  2  3  4  5  6  7  9 10 11 12] | test: [8]\n",
      "Train [ 0  1  2  3  4  5  6  7  8 10 11 12] | test: [9]\n",
      "Train [ 0  1  2  3  4  5  6  7  8  9 11 12] | test: [10]\n",
      "Train [ 0  1  2  3  4  5  6  7  8  9 10 12] | test: [11]\n",
      "Train [ 0  1  2  3  4  5  6  7  8  9 10 11] | test: [12]\n"
     ]
    }
   ],
   "source": [
    "from sklearn.model_selection import KFold, cross_val_score\n",
    "X = [\"a\",\"a\",\"b\",\"c\",\"c\",\"c\",\"d\",\"d\",\"e\",\"f\",\"f\",\"f\",\"f\"]\n",
    "\n",
    "#Define the number of test/train splits we need\n",
    "k_fold = KFold(n_splits=10)\n",
    "\n",
    "for train_indices, test_indices in k_fold.split(X):\n",
    "    print ('Train %s | test: %s' %(train_indices, test_indices))"
   ]
  },
  {
   "cell_type": "code",
   "execution_count": 13,
   "metadata": {
    "collapsed": false
   },
   "outputs": [
    {
     "data": {
      "text/plain": [
       "[0.9388888888888889,\n",
       " 0.9944444444444445,\n",
       " 0.9333333333333333,\n",
       " 0.9666666666666667,\n",
       " 0.9611111111111111,\n",
       " 0.9888888888888889,\n",
       " 0.9666666666666667,\n",
       " 0.9888268156424581,\n",
       " 0.9329608938547486,\n",
       " 0.9664804469273743]"
      ]
     },
     "execution_count": 13,
     "metadata": {},
     "output_type": "execute_result"
    }
   ],
   "source": [
    "#This is a compact way of generating a list from a three split Kfold problem\n",
    "\n",
    "[svc.fit(X_digits[train], Y_digits[train]).score(X_digits[test], Y_digits[test])\\\n",
    " for train, test in k_fold.split(X_digits)]"
   ]
  },
  {
   "cell_type": "code",
   "execution_count": 15,
   "metadata": {
    "collapsed": false
   },
   "outputs": [
    {
     "data": {
      "text/plain": [
       "array([0.94423954, 0.99411765, 0.94752137, 0.97047619, 0.96459384,\n",
       "       0.98918129, 0.96713352, 0.98947368, 0.93755025, 0.96780702])"
      ]
     },
     "execution_count": 15,
     "metadata": {},
     "output_type": "execute_result"
    }
   ],
   "source": [
    "#Yet another way to do this is as follows:\n",
    "cross_val_score(svc,X_digits,Y_digits,cv=k_fold,scoring=\"precision_macro\")"
   ]
  },
  {
   "cell_type": "code",
   "execution_count": 18,
   "metadata": {
    "collapsed": false
   },
   "outputs": [
    {
     "data": {
      "image/png": "[encoded data removed]",
      "text/plain": [
       "<Figure size 288x216 with 1 Axes>"
      ]
     },
     "metadata": {},
     "output_type": "display_data"
    }
   ],
   "source": [
    "digits = datasets.load_digits()\n",
    "X = digits.data\n",
    "y = digits.target\n",
    "\n",
    "svc = svm.SVC(kernel='linear')\n",
    "C_s = np.logspace(-10, 0, 10)\n",
    "\n",
    "scores = list()\n",
    "scores_std = list()\n",
    "for C in C_s:\n",
    "    svc.C = C\n",
    "    \n",
    "    #This will use the default three-fold cross validation if we \n",
    "    #don't enter a value for cv here. Remember this because its a convenient way of\n",
    "    #scoring the dataset\n",
    "    this_scores = cross_val_score(svc, X, y, n_jobs=1)\n",
    "    \n",
    "    #Get the mean \n",
    "    scores.append(np.mean(this_scores))\n",
    "    \n",
    "    #Get the standard deviation\n",
    "    scores_std.append(np.std(this_scores))\n",
    "\n",
    "# Do the plotting\n",
    "import matplotlib.pyplot as plt\n",
    "import matplotlib\n",
    "%matplotlib inline \n",
    "\n",
    "plt.figure(1, figsize=(4, 3))\n",
    "plt.clf()\n",
    "plt.semilogx(C_s, scores)\n",
    "plt.semilogx(C_s, np.array(scores) + np.array(scores_std), 'b--')\n",
    "plt.semilogx(C_s, np.array(scores) - np.array(scores_std), 'b--')\n",
    "locs, labels = plt.yticks()\n",
    "plt.yticks(locs, list(map(lambda x: \"%g\" % x, locs)))\n",
    "plt.ylabel('CV score')\n",
    "plt.xlabel('Parameter C')\n",
    "plt.ylim(0, 1.1)\n",
    "plt.show()"
   ]
  },
  {
   "cell_type": "markdown",
   "metadata": {},
   "source": [
    "Note that the C paramter controls the smoothnes of the solution"
   ]
  },
  {
   "cell_type": "markdown",
   "metadata": {},
   "source": [
    "We can also use this to extimate the best parameter sets from the cross validation scores. Again, there is an easy way to do this, but it doesn't really show you whats going on behind the scenes"
   ]
  },
  {
   "cell_type": "code",
   "execution_count": 26,
   "metadata": {
    "collapsed": false
   },
   "outputs": [
    {
     "data": {
      "text/plain": [
       "GridSearchCV(cv=None, error_score='raise',\n",
       "       estimator=SVC(C=1.0, cache_size=200, class_weight=None, coef0=0.0,\n",
       "  decision_function_shape='ovr', degree=3, gamma='auto', kernel='linear',\n",
       "  max_iter=-1, probability=False, random_state=None, shrinking=True,\n",
       "  tol=0.001, verbose=False),\n",
       "       fit_params=None, iid=True, n_jobs=-1,\n",
       "       param_grid={'C': array([1.00000e-06, 1.12332e-06, ..., 8.90215e-02, 1.00000e-01])},\n",
       "       pre_dispatch='2*n_jobs', refit=True, return_train_score='warn',\n",
       "       scoring=None, verbose=0)"
      ]
     },
     "execution_count": 26,
     "metadata": {},
     "output_type": "execute_result"
    }
   ],
   "source": [
    "from sklearn.model_selection import GridSearchCV, cross_val_score\n",
    "\n",
    "Cs = np.logspace(-6, -1, 100)\n",
    "\n",
    "#This is going to do a standard 3-Fold cross validation for each of the C values. Evidently\n",
    "#we have to retrain the classifier each time so its quite an expensive \n",
    "clf = GridSearchCV(estimator=svc, param_grid=dict(C=Cs),n_jobs=-1)\n",
    "clf.fit(X_digits[:1000], Y_digits[:1000])"
   ]
  },
  {
   "cell_type": "code",
   "execution_count": 27,
   "metadata": {
    "collapsed": false
   },
   "outputs": [
    {
     "data": {
      "text/plain": [
       "0.007742636826811269"
      ]
     },
     "execution_count": 27,
     "metadata": {},
     "output_type": "execute_result"
    }
   ],
   "source": [
    "clf.best_estimator_.C"
   ]
  },
  {
   "cell_type": "code",
   "execution_count": 28,
   "metadata": {
    "collapsed": false
   },
   "outputs": [
    {
     "data": {
      "text/plain": [
       "0.925"
      ]
     },
     "execution_count": 28,
     "metadata": {},
     "output_type": "execute_result"
    }
   ],
   "source": [
    "clf.best_score_"
   ]
  },
  {
   "cell_type": "code",
   "execution_count": null,
   "metadata": {
    "collapsed": true
   },
   "outputs": [],
   "source": []
  }
 ],
 "metadata": {
  "anaconda-cloud": {},
  "kernelspec": {
   "display_name": "Python [conda env:python3]",
   "language": "python",
   "name": "conda-env-python3-py"
  },
  "language_info": {
   "codemirror_mode": {
    "name": "ipython",
    "version": 3
   },
   "file_extension": ".py",
   "mimetype": "text/x-python",
   "name": "python",
   "nbconvert_exporter": "python",
   "pygments_lexer": "ipython3",
   "version": "3.6.4"
  }
 },
 "nbformat": 4,
 "nbformat_minor": 1
}
